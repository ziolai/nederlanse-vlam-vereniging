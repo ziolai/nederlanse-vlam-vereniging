{
 "cells": [
  {
   "cell_type": "markdown",
   "id": "2e17fd5e",
   "metadata": {},
   "source": [
    "# Combura-2024 Industrial Workshop \n",
    "\n",
    "Session promoting dialogue between academia and industry during [Combura2024](https://www.combura.nl) on Thursday, October 24th, 2024.  \n",
    "\n",
    "Workshop session on industrial problems \n",
    "\n",
    "The session wishes to promote the dialogue between industry and academia. The session will consist of two parts. The first part will features presentation of challenges from three industrial partners. The second part will provide space for exchange between industry and academia. Details will be announced on the website. The session is graciously supported by Shell, Almajdouie-deRijke and a third party. The sessions will by chaired by Erwin Platvoets (XRG Technologies). "
   ]
  },
  {
   "cell_type": "markdown",
   "id": "9bccb036",
   "metadata": {},
   "source": [
    "## Introduction \n",
    "\n",
    "Wish to promote dialogue between industry and academia. Therefore session in two parts. \n",
    "- Part (1/2): presentation of challenges from three industrial partners. \n",
    "- Part (2/2): dialogue between industry and academia on how to address these challenges using a combination of numerical simulation and experimental design approaches.  \n",
    "\n",
    "## Three Talks from Industry  \n",
    "\n",
    "Context definition. Problem definition. Suggestions for research.  \n",
    "\n",
    "Josue MelguizoGavilanes (j.melguizogavilanes@shell.com) - [Shell](https://www.shell.com) - Title: *Safety Concerns in Storing and Transporting Hydrogen* This talk discusses the deployment of open-source CFD tools that are fit-for-purpose for the improved understanding of large scale industrial hazards (i.e., accidental releases, dispersion, fire, explosions, etc.) in, including but not limited to, carbon-free energy carriers (i.e., hydrogen and ammonia gas). \n",
    "\n",
    "Rudy Sadi (sadirp@almajdouie.com) - [Almadouie-deRijke](https://almajdouiederijke.com) - Title: *Building the Hydrogen Storage Infrastructure in the Arabian Gulf Region using Metal-Organic Frameworks* This talk discusses building the hydrogen economy in the Arabian Gulf. The storage of hydrogen using metal-organic frameworks in particular will be detailed. \n",
    "\n",
    "NN \n",
    "\n",
    "## Dialogue between Academia and Industry \n",
    "\n",
    "Short and long term questions for research. Common research time? Common solution approaches? "
   ]
  },
  {
   "cell_type": "code",
   "execution_count": null,
   "id": "e0d0cb2c",
   "metadata": {},
   "outputs": [],
   "source": []
  }
 ],
 "metadata": {
  "kernelspec": {
   "display_name": "Julia 1.8.1",
   "language": "julia",
   "name": "julia-1.8"
  },
  "language_info": {
   "file_extension": ".jl",
   "mimetype": "application/julia",
   "name": "julia",
   "version": "1.8.1"
  }
 },
 "nbformat": 4,
 "nbformat_minor": 5
}
