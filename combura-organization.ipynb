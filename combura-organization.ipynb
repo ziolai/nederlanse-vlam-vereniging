{
 "cells": [
  {
   "cell_type": "markdown",
   "id": "14fca09c",
   "metadata": {},
   "source": [
    "# Organization of NVV Members Meeting and Combura\n",
    "# Edition 2024\n",
    "# Proposed Location: Domus Dela - Eindhoven \n",
    "# Proposed Dates: Monday, October 21st and Tuesday, October 22nd \n",
    "\n",
    "These notes provide guidelines on the organization of Combura and the NVV Members Meeting preceeding the meeting. "
   ]
  },
  {
   "cell_type": "markdown",
   "id": "4c99f441",
   "metadata": {},
   "source": [
    "People involved: \n",
    "1. Marjan Beekmans (TU Eindhoven, secretary, m.beekmans-add-tue.nl)\n",
    "2. Pyrrhos Stathis ([combura.nl](www.combura.nl) website, info-add-fyper.com)\n",
    "3. Christos Therapontos (christos-add-easyconferences.eu, administrator at EasyConferences)\n",
    "4. conference center [DomusDela in Einhoven](https://domusdela.nl)\n",
    "5. hotel [Marienhage in Eindhoven](https://www.marienhage.com)\n",
    "6. catering [Goyvaerts](https://www.goyvaerts.nl) (dinner)\n",
    "7. poster boards from [Hartman Reclame](https://hartmanreclame.nl) Contact person Johnny Hartman;\n",
    "Hartman Reclame; info-add-hartmanreclame.nl 0622621177 or 0653397693"
   ]
  },
  {
   "cell_type": "markdown",
   "id": "cd47a6bf",
   "metadata": {},
   "source": [
    "## Section 1: Prior to meeting \n",
    "\n",
    "Program comite: NVV members meeting and Combura: arrange venue, catering, website, poster boards;  \n",
    "\n",
    "Organization comite: fix theme, arrange program and invited speakers, best \n",
    "\n",
    "## Section 2: During meeting \n",
    "\n",
    "Program comite: to be defined\n",
    "\n",
    "Organization comite:  to be defined\n",
    "\n",
    "## Section 3: After meeting \n",
    "\n",
    "Program comite: payment of invoices, announce best poster price and best master thesis award \n",
    "\n",
    "Organization comite: to be defined \n",
    "\n",
    "## Section 4: Recommendations for the Organization of Combura2024 \n",
    "\n",
    "Budget:\n",
    "At the start a budget study should be made, listing the possible sources of income and expenses with estimated value. The income depends on the number of participants, so also this should be estimated divided in different categories (NVV members, non-NVV-members, invited speakers). The budget should include a few scenario’s (from pessimistic to optimistic). The target end-result should be specified. A critical condition for no-go should be identified.\n",
    " \n",
    "Cost for participants:\n",
    "The participants should pay the registration fee for their category and the cost of a hotel room. Only in exceptional cases like invited speakers the cost of the room will be paid by the Combura organization.\n",
    "(Motivation: This year the information on the hotel rooms was confusing. The price of the room was stated in the webpage, but the payment of the room was not asked in the invoice, in contrast with Combura 2022.  So, up to the day of the conference I expected to receive the invoice for the room. It is unclear whether and when a decision has been made to not ask for payment of the room this year.)\n",
    " \n",
    "Confirmation of room reservation:\n",
    "The confirmation of the room reservation to the persons that have shown accommodation interest, should be made as early as possible.\n",
    "(Motivation: This year I never received a regular confirmation that my accommodation interest was granted. When a list was made available to the organizing committees, I did not see my name. When I asked Domenico about it, he confirmed by e-mail that is ok. But nevertheless, when arriving in the hotel the lady at the reception could not find my name in the list.) \n",
    " \n",
    "Sharing of rooms:\n",
    "The EasyConferences webpage for reservation of accommodation has an option to express the wish to share a room with a person that is already registered. Using this option is an easier procedure than having people brought together by the organization of Combura.\n",
    " \n",
    "Budget control:\n",
    "It is recommended to assign one person of the organizing committees the task to check for any risks for unexpected expenses, like caused by cancellation deadlines.\n",
    "(Motivation: this will decrease the risk for surprising budget violations) \n",
    "(Info: this year the option to reserve an extra hotel night from Sunday to Monday was created after invited speaker asked for it. Marjan agreed with the hotel an option for this for at most 5 rooms and with deadline at end of September. After that date the rooms would no longer be available. This is a less risky deal: rather lose the rooms than the money!) \n",
    " \n",
    "Budget optimization:\n",
    "It would be good to pay only for services that are really taken. E.g. to not pay for more seats at the dinner than necessary."
   ]
  },
  {
   "cell_type": "markdown",
   "id": "1f1b5e5f",
   "metadata": {},
   "source": []
  },
  {
   "cell_type": "markdown",
   "id": "b8672ab6",
   "metadata": {},
   "source": [
    " "
   ]
  },
  {
   "cell_type": "code",
   "execution_count": null,
   "id": "2078afdb",
   "metadata": {},
   "outputs": [],
   "source": []
  }
 ],
 "metadata": {
  "kernelspec": {
   "display_name": "Julia 1.8.1",
   "language": "julia",
   "name": "julia-1.8"
  },
  "language_info": {
   "file_extension": ".jl",
   "mimetype": "application/julia",
   "name": "julia",
   "version": "1.8.1"
  }
 },
 "nbformat": 4,
 "nbformat_minor": 5
}
