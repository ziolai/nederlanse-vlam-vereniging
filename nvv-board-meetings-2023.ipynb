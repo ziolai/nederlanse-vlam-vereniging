{
 "cells": [
  {
   "cell_type": "markdown",
   "id": "14fca09c",
   "metadata": {},
   "source": [
    "# NVV Board Meetings 2023 "
   ]
  },
  {
   "cell_type": "markdown",
   "id": "b8672ab6",
   "metadata": {},
   "source": [
    "## Minutes of NVV Board Meeting of Friday, December 15th, 2023\n",
    "\n",
    "Present: Ivan Langella and Domenico Lahaye \n",
    "\n",
    "### Functioning of the NVV Board \n",
    "\n",
    "The NVV board functions (as any other board) by decisions taken during meetings. Absence from the meeting results in loss of vote on decisios. \n",
    "\n",
    "### Financial Loss after Combura2023 \n",
    "\n",
    "The board shall try to recover financial loss from Combura2023 in part via contributions from TU Delft, TU Eindhoven and TU Twente proportional to overnight stay in hotel. \n",
    "\n",
    "### Combura2024\n",
    "\n",
    "The organization (Marjan?) and program (Dirk?) comite for Combura2024 shall be formed by January 31st, at the latest. \n",
    "Attendees shall be responsilble for overnight stay. Contact with caterer for dinner shall be made.  \n",
    "\n",
    "### Attendence of progress meetings of Metal2Power and Dynaf \n",
    "\n",
    "Attendance to project meetings shall be monitored closer. \n",
    "\n",
    "### Board Meeting in January 2024 \n",
    "\n",
    "See [poll](https://doodle.com/meeting/participate/id/eX733OVd). "
   ]
  },
  {
   "cell_type": "code",
   "execution_count": null,
   "id": "2078afdb",
   "metadata": {},
   "outputs": [],
   "source": []
  }
 ],
 "metadata": {
  "kernelspec": {
   "display_name": "Julia 1.8.1",
   "language": "julia",
   "name": "julia-1.8"
  },
  "language_info": {
   "file_extension": ".jl",
   "mimetype": "application/julia",
   "name": "julia",
   "version": "1.8.1"
  }
 },
 "nbformat": 4,
 "nbformat_minor": 5
}
