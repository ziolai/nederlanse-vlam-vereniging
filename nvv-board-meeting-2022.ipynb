{
 "cells": [
  {
   "cell_type": "markdown",
   "id": "2e17fd5e",
   "metadata": {},
   "source": [
    "#  Minutes NVV Board Meeting 2022 "
   ]
  },
  {
   "cell_type": "markdown",
   "id": "4a3ce0b5",
   "metadata": {},
   "source": [
    "Minutes of the NVV Members Meeting 2022\n",
    "Location: Conference Hotel Kontakt der Kontinenten, Soesterberg\n",
    "Time: Wednesday, November 23, 2022, 17:00-19:15 ",
    "\n",
    "Present: \n",
    "- Rob Bastiaans (TU/e), \n",
    "- Ivan Langella. (TU Delft), \n",
    "- Nijso Beishuizen (Bosch Thermotechnology), \n",
    "- Dirk Roekaerts (TU Delft), \n",
    "- Domenico Lahaye (TU Delft), \n",
    "- Stefano Mania (Shell), \n",
    "- Arvind Gangoli Rao (TU Delft), \n",
    "- Jeroen van Oijen (TU/e), \n",
    "- Francesca de Domenico (TU Delft), \n",
    "- Camillo Hogenbirk (Bekaert Combustion Technology BV), \n",
    "- Marc Bus (Bekaert Combustion Technology BV)\n",
    " \n",
    "Excused: \n",
    "- Jim Kok (U Twente)"
   ]
  },
  {
   "cell_type": "markdown",
   "id": "091b1ace",
   "metadata": {},
   "source": [
    "<b> Action items: Short term (days to weeks) </b>\n",
    "1. @Member-representative responsible for assuring the payment to the invoice for membership in 2022: to make sure payment is done as soon as possible, if not yet done so; \n",
    "2. @Ivan: organize meeting with audit committee (Dirk and Nijso);  \n",
    "3. @Domenico, @all: Follow-up contacts with possible new members; \n",
    "4. @Jeroen: check payments to STW as Metal2Power contribution; \n",
    "\n",
    "<b> Action items:  Medium term (coming months) </b>\n",
    "\n",
    "5. @board: finalise formation of committees for Combura 2023; \n",
    "6. @Rob: to do follow up with IFRF on the proposed IFRF conference; provide input on the jet-in-cross-flow project;  \n",
    "7. @Domenico, @Stefano: elaborate NVV study day now likely on Wednesday, April 5th, at the TU Delft; \n",
    "8. @Xiaocheng: suggestions for improving NVV website are to be sent to Domenico; \n",
    "9. @Dirk: collect relevant documents for an NVV archive; "
   ]
  },
  {
   "cell_type": "markdown",
   "id": "df17abc9",
   "metadata": {},
   "source": [
    "## Section 1:/ Introduction\n",
    "Rob (chair) introduced the new members of the board (Domenico (secretary) and Ivan (treasurer) and thanks the board members that have left (Nijso and Harshit Gupta). The proposed board position on outreach has now been filled by Xiaocheng Mi (TU/e)."
   ]
  },
  {
   "cell_type": "markdown",
   "id": "bfc88c2a",
   "metadata": {},
   "source": [
    "## Section 2:/ Financial overview and balance check\n",
    "\n",
    "<b> Finances: </b> Ivan presented the expenses and income and the cash position.\n",
    "Invoices for NVV membership 2021 have been sent out. Not all of them have been paid yet. See action item 1.\n",
    "\n",
    "The reserves are currently being used for sponsoring a project led by TU/e and budget has been reserved for two projects that have been submitted, one by TU/e (Rob) and one jointly by TU Delft and TU/e (Sikke Klein, Jeroen). This amounts to 40 kEuro per project.\n",
    "\n",
    "It is estimated that Combura will finish with a deficit of about 5 kEUR, which is in accordance with the budget for 2022.\n",
    "\n",
    "Taking all this together leaves reserves for sponsoring more project proposals (about 120k Euro available). See below.\n",
    "\n",
    "<b> Agreed: </b> The audit committee for reviewing the financial operations of the last year will consist of Dirk Roekaerts and Nijso  Beishuizen. Ivan will make an appointment with the committee. The committee will report its conclusion to the members via the board. See action item 2.\n",
    "\n",
    "<b> Related to 2/: </b>\n",
    "Possible new members: \n",
    "The discussion of the finances led a review of the status of possible new memberships. \n",
    "TATA Steel has shown interest in renewing their membership.\n",
    "Also mentioned where Celsian Glass and Solar, Technip Energies (Netherlands branch located in Zoetermeer) and Air Liquide (Netherlands branch: Air Liquide Nederland BV, located in Rozenburg.\n",
    "\n",
    "Some representatives of these companies are expected to attend Combura and follow up is needed. Action item 3.\n",
    "\n",
    "<b> Related to 2/: </b>\n",
    "Status NVV financial support to project proposals by members\n",
    "Ongoing project “Metal2Power”. The support in cash (10kEUR per year for four years) is to be paid to NWO. The firs invoice received from NWO asked for payment of  8625 Euro instead of 10kEUR. Jeroen will check why this amount instead of 10kEUR (incomplete year?, TVA issue?)\n",
    "\n",
    "<b> Commitment: </b> Project on Hydrogen Flashback by TU Delft and TU/e. Project is under review: D. Lahaye wrote letter of support.\n",
    " \n",
    "<b> Question:  </b> Project jet Cross-Flow by TU/e. Project is under review. Sofar no letter of support provided as far as D. Lahaye is aware of. When will it be necessary?\n",
    "\n",
    "<b> Perspective:  </b> New proposals are welcomed by the board. For each proposal the members will be consulted before support is granted."
   ]
  },
  {
   "cell_type": "markdown",
   "id": "f5fda4b8",
   "metadata": {},
   "source": [
    "## Section 3:/ Combura-2023 \n",
    "Preliminary remarks: organization of Combura 2022 was somewhat tedious. The members thank the committees for the organization! The financial balance can only be made after the final invoice from Kontakt der Kontinenten is received. \n",
    "\n",
    "<b> Agreed: </b> Combura 2023 will be held in the same location on Tuesday 24th evening and Wednesday 25th all day October, 2023.\n",
    "\n",
    "<b> Agreed: </b> as before there will be an organizing committee and a program committee. The committees should be composed soon. Francesca De Domenico (TU Delft, confirmed by email on December 16th), Jeroen van Oijen (TU/e) and Dirk Roekaerts volunteered to be member of the program committee. They can start, but additional volunteers are welcome.\n",
    "\n",
    "At the meeting no decision on members of the organizing committee were made. Volunteers are welcome. The board will take further actions. See action item 5."
   ]
  },
  {
   "cell_type": "markdown",
   "id": "8bad29c4",
   "metadata": {},
   "source": [
    "## Section 4:/ IFRF Membership - IFRF Annual Conference 2023  \n",
    "\n",
    "Rob proposed to discuss the IFRF membership. \n",
    "Domenico ask clarification of the invoice for EUR 2.750  received from IFRF (invoice 0020 of 27 june 2022).\n",
    "Jeroen and Dirk clarified that NVV as organization is not a member of IFRF. It used to be the union of all members of IFRF based in the Netherlands (and for some years also in Belgium). The membership fee of NVV consisted of a part asked by NVV and a part asked by IFRF. The latter part had to be collected by NVV and then passed to IFRF. This still is the case. However, some years ago NVV took the decision that the members of NVV were allowed to quit membership of IFRF and nevertheless remain member of NVV. Those members only pay the NVV membership fee part.  The motivation for members to quit IFRF membership predominantly is a cost/benefit issue. IFRF is seen to provide less useful information and activities than it did in the past. We have now arrived at a situation that only Shell and TU Delft still are member of IFRF. This explains the invoice received from IFRF. \n",
    "\n",
    "Despite the low number of members of IFRF in the Netherland, Greg Kelsall,  ",
    "Executive Director of IFRF, has approached Rob asking whether NVV would be willing to host the 5-yearly IFRF conference in the Netherlands in 2023. [Probably because of the high level of activity on industrial combustion research in the Netherlands]. \n",
    "\n",
    "It was discussed whether NVV should do this. It was agreed that this should not come in the place of Combura, because the role of Combura for networking in the Nethlands and the forum it offers for young researchers to present their work must be maintained. But it could complement Combura. \n",
    "It was concluded that Rob will contact Greg to learn more about the objectives and expectations of IFRF in relation to the proposed conference. Importantly this also concerns the sponsoring of the conference. Will IFRF raise sufficient sponsorship by itself or does NVV have to do some fund raising? See action item 6.\n",
    "\n",
    "During the discussion it was also revealed that Arvind (Secretary of the Dutch Section of the Combustion Institute) has been approach concerning an invitation of the German Section to have a joint member’s meeting with the Dutch Section, preferably in the Netherlands, possibly 2023. For this initiative the same concerns apply as for the IFRF conference. It is left to Dutch Section of Combustion of Combustion Institute to do follow up on this.  "
   ]
  },
  {
   "cell_type": "markdown",
   "id": "90554cee",
   "metadata": {},
   "source": [
    "## Secrtion 5: NVV Study Days and related activities in 2023\n",
    "The proposals made for an NVV study described in the agenda for this meeting were discussed. Additional themes were proposed such as ‘industrial burners’.\n",
    "\n",
    "The proposal to have a morning program with lectures and an afternoon program with hands on experience on modeling was well received. It was also suggested to include afternoon program elaborating a design. Stefano stressed that potential members such as Air Liquide, Stork, Technip and others might be willing to participate and contribute. \n",
    "\n",
    "It was agreed to have the study day in the second half of April 2023. Content and location are to be decided.  Domenico volunteers to further elaborate it. Stefano is willing to provide support. See action item 7."
   ]
  },
  {
   "cell_type": "markdown",
   "id": "964124e9",
   "metadata": {},
   "source": [
    "## Section 6: NVV webpage\n",
    "The current webpages are outdated end are becoming irrelevant. It was discussed how to proceed further. There was agreement that it is better to have small website with permanently relevant information than to have a large website will lots of data streams risk needing a lot of maintenance.\n",
    "\n",
    "A first outline of a new website can be found on https://github.com/ziolai/nederlanse-vlam-vereniging.\n",
    "\n",
    "Xiaocheng offered to make suggestions to proceed. See action item 8 above.  "
   ]
  },
  {
   "cell_type": "markdown",
   "id": "969297b8",
   "metadata": {},
   "source": [
    "## Section 7: NVV Archive \n",
    "Dirk proposed to add a discussion on an NVV archive to the agenda of the meeting. NVV exists already for a long time, from the beginning of the IFRF and has changed quite a lot in the past years, in terms of members, members hierarchy and activities. It is of some importance to keep an archive of this evolution. But many documents of the past have not been kept in an archive. \n",
    "Dirk has passed the documents he had in personal archive to Domenico already, but more efforts are needed. \n",
    "\n",
    "The suggestion of keeping an archive is supported. Dirk and Domenico will work on it by contacting some persons active in NVV in the past. See action item 9 above."
   ]
  },
  {
   "cell_type": "code",
   "execution_count": null,
   "id": "e0d0cb2c",
   "metadata": {},
   "outputs": [],
   "source": []
  }
 ],
 "metadata": {
  "kernelspec": {
   "display_name": "Julia 1.8.1",
   "language": "julia",
   "name": "julia-1.8"
  },
  "language_info": {
   "file_extension": ".jl",
   "mimetype": "application/julia",
   "name": "julia",
   "version": "1.8.1"
  }
 },
 "nbformat": 4,
 "nbformat_minor": 5
}
