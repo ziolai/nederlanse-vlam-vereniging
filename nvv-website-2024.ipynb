{
 "cells": [
  {
   "cell_type": "markdown",
   "metadata": {},
   "source": [
    "# Nederlandse Vlam Vereniging - NVV "
   ]
  },
  {
   "cell_type": "markdown",
   "metadata": {},
   "source": [
    "## Section 1: New NVV Website\n",
    "\n",
    "Current version is at [NVV website](http://vlamvereniging.nl/en). This version was developed by [Kiwico](https://www.kiwico.nl/nvv). \n",
    "\n",
    "### Wishes in general \n",
    "Lean, modular, extensible and easily maintanable website\n",
    "- only English (no Dutch) pages;\n",
    "- only long term informatiobn; no short-term announcements; \n",
    "- refer to Linked-Inn for news items; \n",
    "- merge NVV website and Combura website;  \n",
    "\n",
    "How should webpages be structured (top down approach)?\n",
    "\n",
    "### General Outline/Structure for new website  \n",
    "\n",
    "#### Home page\n",
    "What are NVV ambitions/goals/missions for NVV? Change current text into modern and easily accessable text with  broader/modern/timely scope \n",
    "\n",
    "Distinguish between simulation (numerical and analytical) and experimental work. \n",
    "\n",
    "Highlight breath andf depth of scope: industrial furnaces, gas turbines in aero, car/truck/ship engines, hydrogen,  synthetic fuels and more; \n",
    "\n",
    "Stress importance of public domain test cases, public domain data, public domain simulation tools (SU2, OpenFoam, Python, Julia)\n",
    "\n",
    "#### Academic members \n",
    "current academic members are: TU Delft, TU Eindoven and TU Twente \n",
    "\n",
    "At TU Delft departments are: aero (Langella, De Domenico, Gangoli) and 3ME (Felden, Klein) and DIAM (Lahaye)), \n",
    "- [Power and Flow](https://www.tue.nl/en/research/research-groups/power-flow/), Department of Mechanical Engineering, TU Eindhoven (Bastiaans, De Goeij, van Ooijen)\n",
    "- [Thermal Engineering](https://www.utwente.nl/en/et/tfe/research-groups/TE/), Department of Fluid and Thermal Enginreering, TU Twente (Kok)\n",
    "- [Process and Energy Department](https://www.tudelft.nl/3me/over/afdelingen/process-energy), TU Delft (Klein, de Jong)\n",
    "- [Fluid Performance and Propulsion](https://www.tudelft.nl/index.php?id=4544), TU Delft (Rao Gangoli)\n",
    "\n",
    "At TU Eindhoven departments are: Bastiaans, Van Oijen, De Goey, ... \n",
    "\n",
    "AT TU Twente departments are: Jok\n",
    "\n",
    "#### Corporate Members \n",
    "current: Bosch, Bekaert and De Jong, and Shell;  \n",
    "\n",
    "other (?): Celsian, Danieli-Corus, Albermarle, GAS Unie, DNVGL, KEMA (safety, hydrogen), TNO Prins Maurits Lab. \n",
    "\n",
    "#### Link to similar organizations \n",
    "- Link to Dutch section of Combustion Institute;\n",
    "- Link to IFRF? \n",
    "\n",
    "### Infrastructure to Build New Website \n",
    "Ask for offers at e.g. [99designs](https://en.99designs.nl)? "
   ]
  },
  {
   "cell_type": "code",
   "execution_count": null,
   "metadata": {},
   "outputs": [],
   "source": []
  },
  {
   "cell_type": "code",
   "execution_count": null,
   "metadata": {},
   "outputs": [],
   "source": []
  }
 ],
 "metadata": {
  "kernelspec": {
   "display_name": "Julia 1.8.1",
   "language": "julia",
   "name": "julia-1.8"
  },
  "language_info": {
   "file_extension": ".jl",
   "mimetype": "application/julia",
   "name": "julia",
   "version": "1.8.1"
  }
 },
 "nbformat": 4,
 "nbformat_minor": 2
}
