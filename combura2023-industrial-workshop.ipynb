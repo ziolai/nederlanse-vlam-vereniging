{
 "cells": [
  {
   "cell_type": "markdown",
   "id": "2e17fd5e",
   "metadata": {},
   "source": [
    "# Combura-2023 Industrial Workshop \n",
    "\n",
    "Session promoting dialogue between academia and industry during [Combura2023](https://www.combura.nl) on Tuesday, October 24th, 2023.  \n",
    "\n",
    "Workshop session on industrial problems \n",
    "\n",
    "The session wishes to promote the dialogue between industry and academia. The session will consist of two parts. The first part will features presentation of challenges from three industrial partners. The second part will provide space for exchange between industry and academia. Details will be announced on the website. The session is graciously supported by Danieli-Corus Ijmuiden, Celsian Eindhoven and Oriogen Carbon Solutions."
   ]
  },
  {
   "cell_type": "markdown",
   "id": "9bccb036",
   "metadata": {},
   "source": [
    "## 1: Introduction \n",
    "\n",
    "Wish to promote dialogue between industry and academia. Therefore session in two parts. \n",
    "- Part (1/2): presentation of challenges from three industrial partners. \n",
    "- Part (2/2): dialogue between industry and academia on how to address these challenges using a combination of numerical simulation and experimental design approaches.  \n",
    "\n",
    "## 2: Three Talks from Industry  \n",
    "\n",
    "Context definition. Problem definition. Suggestions for research.  \n",
    "\n",
    "Christine Bertrand (christine@origencarbonsolutions.com) - [Origin Carbon Solutions](http://www.origencarbonsolutions.com) - Vertical shaft convertor for the calcination of lime. Optimal throughput, product quality, energy efficiency, pollutant formation, alternative fuels, fuel blends with hydrogen.    \n",
    "\n",
    "Sethu Ramalingan (Sethu.Ramalingam@danieli-corus.com) - [Danieli-Corus Ijmuiden](http://www.danieli-corus.com) - Furnaces for the production of [hot blast](https://en.wikipedia.org/wiki/Hot_blast) used as preheated oxidizer for hot blast stoves used in the production of steel. Combustion induced [noice](https://en.wikipedia.org/wiki/Thermoacoustics), structural vibrations, [modal analysis](https://en.wikipedia.org/wiki/Modal_analysis), burner optimization.   \n",
    "\n",
    "Dmitry Gyrontsev (dmitry.goryntsev@celsian.nl) - [Celsian Eindhoven](http://www.celsian.nl) - Furnaces for the [production of glass](https://en.wikipedia.org/wiki/Glass_production), energy efficiency, emissions, properties of glass melt, quality of final product. \n",
    "\n",
    "## 3: Dialogue between Academia and Industry \n",
    "\n",
    "Short and long term questions for research. Common research time? Common solution approaches? \n",
    "\n"
  },
  {
   "cell_type": "code",
   "execution_count": null,
   "id": "e0d0cb2c",
   "metadata": {},
   "outputs": [],
   "source": []
  }
 ],
 "metadata": {
  "kernelspec": {
   "display_name": "Julia 1.8.1",
   "language": "julia",
   "name": "julia-1.8"
  },
  "language_info": {
   "file_extension": ".jl",
   "mimetype": "application/julia",
   "name": "julia",
   "version": "1.8.1"
  }
 },
 "nbformat": 4,
 "nbformat_minor": 5
}
