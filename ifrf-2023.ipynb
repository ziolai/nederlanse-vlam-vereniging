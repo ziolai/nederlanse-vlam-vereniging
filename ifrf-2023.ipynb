{
 "cells": [
  {
   "cell_type": "markdown",
   "id": "2e17fd5e",
   "metadata": {},
   "source": [
    "# IFRF-2023 Conference "
   ]
  },
  {
   "cell_type": "markdown",
   "id": "9bccb036",
   "metadata": {},
   "source": [
    "# Section 1:/ Decided - Established \n",
    "\n",
    "- dates: Thursday 26th en Friday 27th October 2023; \n",
    "- location: hotel [Kontact der Kontinenten](https://www.kontaktderkontinenten.nl) in Soesterberg; (reservation for 140 attendees and 100 hotel rooms, 28 single and 72 double rooms); \n",
    "- satelite: hotel [Fletcher](https://www.fletcherhotelamersfoort.nl/en/) in Amesfoort (reservation for 40 rooms); \n",
    "\n",
    "# Section 2:/  Contact List \n",
    "\n",
    "- Greg Kelsall (IFRF Executive Director <greg.kelsall@ifrf.net>); \n",
    "- Melissa Ayres (IFRF Co Secretary <m.ayres@sheffield.ac.uk>);\n",
    "- Rhianne Spurden (IFRF Communications Mgr <r.spurden@sheffield.ac.uk>);\n",
    "- Sebastien Caillat (who organised the recent TOTeM in Paris <Sebastien.CAILLAT@fivesgroup.com>); \n",
    "- Carys Blunt (to be invited, UKCCSRC, lots of experience organising events);  \n",
    "\n",
    "# Section 3:/ Questions \n",
    "\n",
    "## General Questions \n",
    "\n",
    "- who is finally responsible? \n",
    "- who is responsible for program? \n",
    "- who is responsible for organization? \n",
    "\n",
    "## Prior to Meeting\n",
    "\n",
    "- incoming budget based on registration fee of 140 participants, sponsorship and contributions from NVV and IFRF;\n",
    "- outgoing budget for conference support (EventBrite, CVENT, EasyConferences or other) hotel, catering, on-site support (posterboards); \n",
    "- website; \n",
    "- first, second and third call for papers; \n",
    "- invited speakers? \n",
    "\n",
    "## During Meeting \n",
    "- who mans the reception? \n",
    "- how is catering arranged? \n",
    "\n",
    "## After Meeting \n",
    "- pay invoices \n",
    "- send out thank you notes  \n",
    "\n",
    "#  Section 4:/ \n",
    "\n",
    "## Dialogue Rob Bastiaans -  Greg Kelsall on November 27th, 2022\n",
    "\n",
    "1. Q: Will there be some organizing support from IFRF (mainly from abroad)? Websites, registration etc. A: Yes.  The IFRF admin team can support.  The 2018 IFRF Conference publicity and registration was organised using Eventbrite and the IFRF websites, so I would envisage the same. I will also help with the organising committee \n",
    "\n",
    "2. Q: Is there some script cq planning available? A: Not sure what you mean by this.  Any planning information available from the last 2018 IFRF Conference in Sheffield can be used where available \n",
    "\n",
    "3. Q: When will the date be selected? A: We should fix a date soon.  Notionally around mid October but avoiding clashes with any other events and to suit local constraints (venue availability, NVV team availability etc) \n",
    "\n",
    "4. Q: How many people will be expected to attend? Parallel sessions? A: I understand that past events have had up to 250 attendees. The recent TOTeM in Paris had 110 attendees- the 2023 IFRF Conference will probably be somewhere in between. Yes, I would envisage parallel sessions.\n",
    "\n",
    "## Dialogue Domenico Lahaye and Emma van Gool \n",
    "\n",
    "### December 8th, 2022\n",
    " \n",
    "Thanks for your message. Because applications for autumn 2023 are already going fast, I have already placed the reservation for you on October 26-27, 2023.\n",
    "This is of course a very global set-up, but then at least the halls and hotel rooms are already reserved for you.\n",
    " \n",
    "In this offer I have assumed 140 participants and 100 hotel rooms (28x single and 72x double rooms). I have also reserved the Cecilia Chapel for you together with 5 sub-rooms.\n",
    "Because you want to offer all participants a hotel room, I have contacted a hotel in the area for you, namely Fletcher Hotel Amersfoort. It is possible to put 40 hotel rooms in option there. The price they charge for a hotel room for single use is €100.50 including breakfast.\n",
    " \n",
    "I would like to hear whether the hotel rooms at Fletcher Hotel Amersfoort are desired so that I can put them in option for you. Please note that the conditions of Fletcher Hotel Amersfoort apply to these hotel rooms.\n",
    " \n",
    "If anything more is known about the program for this conference, please let me know and I will adjust the offer accordingly. If there are any questions and / or wishes, I'd love to hear it!\n",
    "\n",
    "### December 9th, 2022 \n",
    "\n",
    "I would like to inform you that 40 hotel rooms have been reserved for you at Fletcher Hotel Amersfoort for October 26, 2023. \n"
   ]
  },
  {
   "cell_type": "code",
   "execution_count": null,
   "id": "e0d0cb2c",
   "metadata": {},
   "outputs": [],
   "source": []
  }
 ],
 "metadata": {
  "kernelspec": {
   "display_name": "Julia 1.8.1",
   "language": "julia",
   "name": "julia-1.8"
  },
  "language_info": {
   "file_extension": ".jl",
   "mimetype": "application/julia",
   "name": "julia",
   "version": "1.8.1"
  }
 },
 "nbformat": 4,
 "nbformat_minor": 5
}
